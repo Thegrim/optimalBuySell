{
 "cells": [
  {
   "cell_type": "code",
   "execution_count": 1,
   "metadata": {},
   "outputs": [
    {
     "name": "stdout",
     "output_type": "stream",
     "text": [
      "Optimal buy date: 2023-11-23\n",
      "Optimal buy price: $237.13\n",
      "Optimal sell date: 2024-07-06\n",
      "Optimal sell price: $381.09\n",
      "Profit: $143.96\n",
      "Profit percentage: 60.71%\n",
      "The chart has been saved as 'qqq_buy_sell_points.png' in the specified directory.\n"
     ]
    }
   ],
   "source": [
    "import pandas as pd\n",
    "import numpy as np\n",
    "\n",
    "# Load the data\n",
    "df = pd.read_csv('/yourPath.csv', index_col='Date', parse_dates=True)\n",
    "\n",
    "def find_optimal_buy_sell(prices):\n",
    "    n = len(prices)\n",
    "    if n < 2:\n",
    "        return None, None\n",
    "    \n",
    "    # Initialize variables\n",
    "    min_price = float('inf')\n",
    "    max_profit = 0\n",
    "    buy_date = sell_date = None\n",
    "    \n",
    "    for i in range(n):\n",
    "        if prices[i] < min_price:\n",
    "            min_price = prices[i]\n",
    "            potential_buy_date = df.index[i]\n",
    "        \n",
    "        profit = prices[i] - min_price\n",
    "        if profit > max_profit:\n",
    "            max_profit = profit\n",
    "            buy_date = potential_buy_date\n",
    "            sell_date = df.index[i]\n",
    "    \n",
    "    return buy_date, sell_date\n",
    "\n",
    "# Find the optimal buy and sell dates\n",
    "buy_date, sell_date = find_optimal_buy_sell(df['Close'].values)\n",
    "\n",
    "if buy_date and sell_date:\n",
    "    buy_price = df.loc[buy_date, 'Close']\n",
    "    sell_price = df.loc[sell_date, 'Close']\n",
    "    profit = sell_price - buy_price\n",
    "    profit_percentage = (profit / buy_price) * 100\n",
    "    \n",
    "    print(f\"Optimal buy date: {buy_date.date()}\")\n",
    "    print(f\"Optimal buy price: ${buy_price:.2f}\")\n",
    "    print(f\"Optimal sell date: {sell_date.date()}\")\n",
    "    print(f\"Optimal sell price: ${sell_price:.2f}\")\n",
    "    print(f\"Profit: ${profit:.2f}\")\n",
    "    print(f\"Profit percentage: {profit_percentage:.2f}%\")\n",
    "else:\n",
    "    print(\"No profitable trade found.\")\n",
    "\n",
    "# Visualize the data and the buy/sell points\n",
    "import matplotlib.pyplot as plt\n",
    "\n",
    "plt.figure(figsize=(12, 6))\n",
    "plt.plot(df.index, df['Close'], label='QQQ Price')\n",
    "plt.scatter(buy_date, buy_price, color='green', label='Buy Point', marker='^', s=100)\n",
    "plt.scatter(sell_date, sell_price, color='red', label='Sell Point', marker='v', s=100)\n",
    "plt.title('QQQ ETF Price with Optimal Buy and Sell Points')\n",
    "plt.xlabel('Date')\n",
    "plt.ylabel('Price ($)')\n",
    "plt.legend()\n",
    "plt.grid(True)\n",
    "plt.tight_layout()\n",
    "plt.savefig('/yourPath/qqq_buy_sell_points.png')\n",
    "plt.close()\n",
    "\n",
    "print(f\"The chart has been saved as 'qqq_buy_sell_points.png' in the specified directory.\")"
   ]
  }
 ],
 "metadata": {
  "kernelspec": {
   "display_name": "MLTRADE",
   "language": "python",
   "name": "python3"
  },
  "language_info": {
   "codemirror_mode": {
    "name": "ipython",
    "version": 3
   },
   "file_extension": ".py",
   "mimetype": "text/x-python",
   "name": "python",
   "nbconvert_exporter": "python",
   "pygments_lexer": "ipython3",
   "version": "3.9.6"
  }
 },
 "nbformat": 4,
 "nbformat_minor": 2
}
